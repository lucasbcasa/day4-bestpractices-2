{
 "cells": [
  {
   "cell_type": "code",
   "execution_count": null,
   "id": "759bf48f-5922-4017-b1ce-7ca02fa56c34",
   "metadata": {},
   "outputs": [],
   "source": [
    "import matplotlib.pyplot as plt\n",
    "import numpy as np"
   ]
  },
  {
   "cell_type": "markdown",
   "id": "a9634d74-892a-45f0-9ff5-fc9ed77d0e3a",
   "metadata": {},
   "source": [
    "## 1. Importing data"
   ]
  },
  {
   "cell_type": "code",
   "execution_count": null,
   "id": "aa0d8c2f-fcf0-480c-a842-6aa8d269661f",
   "metadata": {},
   "outputs": [],
   "source": [
    "LDOSfile = './data/LDOSdata'\n",
    "with open(LDOSfile) as file:\n",
    "    LDOS = np.array([float(line) for line in file])\n",
    "vacPos = (0,1,13,15)\n",
    "\n",
    "indicesFile = './data/55_sites_list'\n",
    "positionsFile = './data/55_sites_positions'\n",
    "\n",
    "with open(indicesFile) as file:\n",
    "    indices = np.array([[int(val) for val in line.split()] for line in file])\n",
    "\n",
    "with open(positionsFile) as file:\n",
    "    positions = np.array([[float(val) for val in line.split()] for line in file])\n",
    "    \n",
    "layers, sublattices = (indices[:,0], indices[:, 1])"
   ]
  },
  {
   "cell_type": "markdown",
   "id": "05a8b206-3967-4bc7-a086-9d07bec33bdf",
   "metadata": {},
   "source": [
    "## 2. Create plotting method"
   ]
  },
  {
   "cell_type": "code",
   "execution_count": null,
   "id": "aa505b18-a7fd-49a3-8db3-b69d49098d61",
   "metadata": {
    "tags": []
   },
   "outputs": [],
   "source": [
    "def getVacancyIndex(vacPos, indices):\n",
    "    vacIndex = np.where((indices == vacPos).all(axis=1))[0][0]\n",
    "    return vacIndex\n",
    "\n",
    "def plotLDOSmap(LDOS, indices, positions, layers, vacPos, plotsfolder, **kwargs):\n",
    "    plt.figure(figsize=(16, 10), dpi=160);\n",
    "    \n",
    "    x = positions[:,0]\n",
    "    y = positions[:,1]\n",
    "    c = LDOS\n",
    "    \n",
    "    top = np.nonzero(layers-1)\n",
    "    bottom = np.nonzero(layers)\n",
    "\n",
    "    x_top, x_bottom = x[top], x[bottom]\n",
    "    y_top, y_bottom = y[top], y[bottom]\n",
    "    c_top, c_bottom = c[top], c[bottom]\n",
    "    \n",
    "    vacIndex = getVacancyIndex(vacPos, indices)\n",
    "    vacX, vacY = positions[vacIndex]\n",
    "    #print(np.sort(abs(x_top-vacX)**2 + abs(y_top-vacY)**2))\n",
    "\n",
    "    dotSize = kwargs.get('dotSize', 4)\n",
    "    cmap = kwargs.get('cmap', 'cool')\n",
    "\n",
    "    ax1 = plt.subplot(1,2,1)\n",
    "    ax1.set_title('Top')\n",
    "    leftPanel = ax1.scatter(x_top,y_top,c=c_top, s=dotSize, cmap=cmap)\n",
    "    #ax1.scatter(vacX, vacY,c='k',s=dotSize) # Mark the vacancy with a black dot\n",
    "    plt.colorbar(leftPanel, ax=ax1)\n",
    "\n",
    "    ax2 = plt.subplot(1,2,2)\n",
    "    ax2.set_title('Bottom')\n",
    "    rightPanel = ax2.scatter(x_bottom,y_bottom,c=c_bottom, s=dotSize, cmap=cmap)\n",
    "    plt.colorbar(rightPanel, ax=ax2)\n",
    "\n",
    "    plt.suptitle(kwargs.get('suptitle', \"Vacancy @ {} - LDOS\".format(vacPos)))\n",
    "    plt.savefig(plotsfolder + 'lucas_nice_plot.pdf', format='pdf')"
   ]
  },
  {
   "cell_type": "markdown",
   "id": "75256e86-1dc5-477c-9647-683bb2355c6e",
   "metadata": {},
   "source": [
    "## 3. Plot data"
   ]
  },
  {
   "cell_type": "code",
   "execution_count": null,
   "id": "8e78628f-85a5-459f-9a86-2bb5d246fd65",
   "metadata": {},
   "outputs": [],
   "source": [
    "plotLDOSmap(LDOS, indices, positions, layers, vacPos, plotsfolder='./')"
   ]
  }
 ],
 "metadata": {
  "kernelspec": {
   "display_name": "Python 3",
   "language": "python",
   "name": "python3"
  },
  "language_info": {
   "codemirror_mode": {
    "name": "ipython",
    "version": 3
   },
   "file_extension": ".py",
   "mimetype": "text/x-python",
   "name": "python",
   "nbconvert_exporter": "python",
   "pygments_lexer": "ipython3",
   "version": "3.8.8"
  }
 },
 "nbformat": 4,
 "nbformat_minor": 5
}
